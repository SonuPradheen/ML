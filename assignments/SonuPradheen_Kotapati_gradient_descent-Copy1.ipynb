{
 "cells": [
  {
   "cell_type": "code",
   "execution_count": 1,
   "metadata": {},
   "outputs": [],
   "source": [
    "#import python packages\n",
    "import numpy as np\n",
    "from matplotlib import pyplot as plt\n",
    "import seaborn as sns\n",
    "%matplotlib inline"
   ]
  },
  {
   "cell_type": "code",
   "execution_count": 2,
   "metadata": {},
   "outputs": [],
   "source": [
    "# x range for plotting\n",
    "x=np.arange(-120, 80, 0.1)"
   ]
  },
  {
   "cell_type": "code",
   "execution_count": 3,
   "metadata": {},
   "outputs": [],
   "source": [
    "#define f(x) function \n",
    "def f(x): \n",
    "    return x**4+200*(x+2000)**2+10000"
   ]
  },
  {
   "cell_type": "code",
   "execution_count": 4,
   "metadata": {
    "scrolled": true
   },
   "outputs": [
    {
     "data": {
      "text/plain": [
       "[<matplotlib.lines.Line2D at 0x21809a3a160>]"
      ]
     },
     "execution_count": 4,
     "metadata": {},
     "output_type": "execute_result"
    },
    {
     "data": {
      "image/png": "[encoded data removed]",
      "text/plain": [
       "<Figure size 432x288 with 1 Axes>"
      ]
     },
     "metadata": {
      "needs_background": "light"
     },
     "output_type": "display_data"
    }
   ],
   "source": [
    "plt.plot(x,f(x))"
   ]
  },
  {
   "cell_type": "code",
   "execution_count": 5,
   "metadata": {},
   "outputs": [],
   "source": [
    "# derivation for f(x)\n",
    "def df(x):\n",
    "    return 4*(x**3)+400*x+800000"
   ]
  },
  {
   "cell_type": "code",
   "execution_count": 6,
   "metadata": {},
   "outputs": [],
   "source": [
    "# minimum of f(x) \n",
    "def find_optimum(x_old,x_new,gamma,precision):\n",
    "    x_search=[x_new]\n",
    "    while abs(x_new-x_old)>precision:\n",
    "        x_old=x_new\n",
    "        x_new=x_old-gamma*df(x_old)\n",
    "        x_search.append(x_new)\n",
    "    print(len(x_search),\"iteration\")\n",
    "    print(\"The local minimum occures at %f\"% x_new)\n",
    "    plt.plot(x,f(x))\n",
    "    x_search=np.array(x_search)\n",
    "    y_search=(x_search**4+200*(x_search+2000)**2+10000)\n",
    "    plt.plot(x_search,y_search)"
   ]
  },
  {
   "cell_type": "code",
   "execution_count": null,
   "metadata": {
    "scrolled": false
   },
   "outputs": [],
   "source": [
    "x_old = 70 \n",
    "x_new = 50\n",
    "gamma = 1\n",
    "precision = 1e-12 \n",
    "find_optimum(x_old,x_new,gamma,precision)"
   ]
  },
  {
   "cell_type": "code",
   "execution_count": null,
   "metadata": {},
   "outputs": [],
   "source": [
    "#creating a find_optimum function\n",
    "def adaptive_optimum(x_old, x_new, gamma, t, precision):\n",
    "    nextIter = True\n",
    "    while nextIter:\n",
    "        gamma *=t \n",
    "        x_old_try = x_old \n",
    "        x_new_try = x_new \n",
    "        for i in range(10000):\n",
    "            x_old_try = x_new_try          \n",
    "            try:\n",
    "                x_old=x_new\n",
    "                x_new=x_old-gamma*df(x_old)\n",
    "            print(\"Found gamma:%f\"% t)   \n",
    "            print(\"The minimum is at:%f\"%x_old_try )\n",
    "            print(\"The minimum of f(x) is :%f\"% x_new_try)\n",
    "            except:                          \n",
    "                break "
   ]
  },
  {
   "cell_type": "code",
   "execution_count": null,
   "metadata": {},
   "outputs": [],
   "source": [
    "x_old = 70  \n",
    "x_new = 50 \n",
    "precision = 1e-12\n",
    "t=0.9\n",
    "gamma = 1\n",
    "adaptive_optimum(x_old, x_new, gamma, t, precision)"
   ]
  },
  {
   "cell_type": "code",
   "execution_count": null,
   "metadata": {
    "collapsed": true
   },
   "outputs": [],
   "source": []
  }
 ],
 "metadata": {
  "anaconda-cloud": {},
  "kernelspec": {
   "display_name": "Python 3",
   "language": "python",
   "name": "python3"
  },
  "language_info": {
   "codemirror_mode": {
    "name": "ipython",
    "version": 3
   },
   "file_extension": ".py",
   "mimetype": "text/x-python",
   "name": "python",
   "nbconvert_exporter": "python",
   "pygments_lexer": "ipython3",
   "version": "3.8.5"
  }
 },
 "nbformat": 4,
 "nbformat_minor": 1
}
