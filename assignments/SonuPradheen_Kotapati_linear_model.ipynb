{
 "cells": [
  {
   "cell_type": "code",
   "execution_count": 42,
   "metadata": {},
   "outputs": [],
   "source": [
    "#import packets that will be used later\n",
    "import numpy as np \n",
    "import time\n",
    "from matplotlib import pyplot as plt\n",
    "import seaborn as sns\n",
    "%matplotlib inline"
   ]
  },
  {
   "cell_type": "code",
   "execution_count": 43,
   "metadata": {},
   "outputs": [],
   "source": [
    "years = np.arange(0,40,0.5)\n",
    "np.random.seed(0)\n",
    "salary = 45000+np.sqrt(years)*16789 +np.random.normal(2000,10000,len(years))"
   ]
  },
  {
   "cell_type": "code",
   "execution_count": 44,
   "metadata": {},
   "outputs": [
    {
     "name": "stdout",
     "output_type": "stream",
     "text": [
      "(80, 2)\n",
      "[[1.  0. ]\n",
      " [1.  0.5]\n",
      " [1.  1. ]]\n"
     ]
    }
   ],
   "source": [
    "y=np.array(salary)\n",
    "#convert X to a nX2 matrix, n is the number samples, and the first column of X is 1\n",
    "X = np.array(years)\n",
    "#Create a ones vector\n",
    "ones = np.ones((X.shape[0],1))\n",
    "#make ones the first vector/column in X \n",
    "X = np.reshape(X, (X.shape[0],1))\n",
    "X = np.concatenate((ones,X),axis=1)\n",
    "print(X.shape)\n",
    "print(X[0:3,:])"
   ]
  },
  {
   "cell_type": "code",
   "execution_count": 45,
   "metadata": {},
   "outputs": [],
   "source": [
    "def vectorized_calculate_SSE(theta):\n",
    "    #Calculate SSE without using for or any loop structure\n",
    "    #Use numpy's .dot() for matrix multiplication only\n",
    "    return np.sum(np.subtract(np.dot(X,theta),y)**2)\n",
    "\n",
    "def vectorized_update_theta(theta, gamma):\n",
    "    gradient=[0,0]\n",
    "    \n",
    "    #Calculate gradient without using for or any loop structure\n",
    "    gradient[0] = np.dot(2*(np.dot(X,theta)-y),X[:,0])\n",
    "    gradient[1] = np.dot(2*(np.dot(X,theta)-y),X[:,1])\n",
    "    \n",
    "    return  [theta[0]-gamma*gradient[0], theta[1]-gamma*gradient[1]]\n",
    "\n",
    "def vectorized_adaptive_optimum(theta, gamma, t, precision):\n",
    "    #infinite loop if no \"return\" is executed \n",
    "    while True:\n",
    "        #decrease gamma in every iteration\n",
    "        gamma *=t \n",
    "        old_SSE = vectorized_calculate_SSE(theta)\n",
    "        \n",
    "        for i in range(10):\n",
    "            temp_theta =vectorized_update_theta(theta, gamma)\n",
    "            new_SSE = vectorized_calculate_SSE(temp_theta)\n",
    "        if new_SSE > old_SSE:  \n",
    "            continue\n",
    "        # if SEE does converge\n",
    "        else:\n",
    "            # try a large iteration to see if gamma can be found\n",
    "            for i in range(100000):\n",
    "                #update theta and calculate new SSE\n",
    "                theta =vectorized_update_theta(theta, gamma) \n",
    "                new_SSE = vectorized_calculate_SSE(theta)\n",
    " \n",
    "                #if the update is within the prcision \n",
    "                if abs(old_SSE - new_SSE) < precision:\n",
    "                    \n",
    "                    #print out the result and return to the function call\n",
    "                    print(\"found minimum cost: \\t\", new_SSE)\n",
    "                    print(\"the optimum theta: \\t\", theta)\n",
    "                    print(\"the learning rate is: \\t\", gamma)\n",
    "                    return theta"
   ]
  },
  {
   "cell_type": "code",
   "execution_count": 46,
   "metadata": {},
   "outputs": [
    {
     "name": "stdout",
     "output_type": "stream",
     "text": [
      "found minimum cost: \t 7684735996.848082\n",
      "the optimum theta: \t [79958.20399183973, 1864.8714513134066]\n",
      "the learning rate is: \t 1.9363259789051322e-05\n",
      "the calculation takes  5.009467124938965  seconds.\n"
     ]
    }
   ],
   "source": [
    "init_theta=[1,1]\n",
    "gamma = 1\n",
    "t=0.9\n",
    "precision =1\n",
    "start_time=time.time()\n",
    "#call the function to find the minimum cost, theta, and the optimal learning rate\n",
    "theta = vectorized_adaptive_optimum(init_theta,gamma,t,precision)\n",
    "print(\"the calculation takes \", time.time()-start_time, \" seconds.\")"
   ]
  },
  {
   "cell_type": "code",
   "execution_count": 47,
   "metadata": {},
   "outputs": [
    {
     "data": {
      "text/plain": [
       "[<matplotlib.lines.Line2D at 0x1f023f804c0>]"
      ]
     },
     "execution_count": 47,
     "metadata": {},
     "output_type": "execute_result"
    },
    {
     "data": {
      "image/png": "[encoded data removed]",
      "text/plain": [
       "<Figure size 432x288 with 1 Axes>"
      ]
     },
     "metadata": {
      "needs_background": "light"
     },
     "output_type": "display_data"
    }
   ],
   "source": [
    "#plot the prediction line\n",
    "\n",
    "plt.title(\"Experience vs. Salary\")\n",
    "plt.xlabel('Years of Experience (Years)')\n",
    "plt.ylabel('Salary ($)')\n",
    "plt.grid(True)\n",
    "plt.xlim(0,40)\n",
    "plt.ylim(45000,180000)\n",
    "plt.scatter(years, salary)\n",
    "plt.plot(years,np.dot(X,theta),c='red')"
   ]
  },
  {
   "cell_type": "code",
   "execution_count": null,
   "metadata": {},
   "outputs": [],
   "source": []
  }
 ],
 "metadata": {
  "kernelspec": {
   "display_name": "Python 3",
   "language": "python",
   "name": "python3"
  },
  "language_info": {
   "codemirror_mode": {
    "name": "ipython",
    "version": 3
   },
   "file_extension": ".py",
   "mimetype": "text/x-python",
   "name": "python",
   "nbconvert_exporter": "python",
   "pygments_lexer": "ipython3",
   "version": "3.8.5"
  }
 },
 "nbformat": 4,
 "nbformat_minor": 4
}
