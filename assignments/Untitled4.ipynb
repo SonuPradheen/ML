{
 "cells": [
  {
   "cell_type": "code",
   "execution_count": 1,
   "metadata": {},
   "outputs": [],
   "source": [
    "import string"
   ]
  },
  {
   "cell_type": "code",
   "execution_count": 19,
   "metadata": {},
   "outputs": [],
   "source": [
    "def encode_rot(text, k):\n",
    "    string_1 = \"\"\n",
    "    for i in text:\n",
    "        if i in string.ascii_uppercase:\n",
    "            string_1 += string.ascii_uppercase[(string.ascii_uppercase.index(i) + k) % 26]\n",
    "        elif i in string.ascii_lowercase:\n",
    "            string_1 += string.ascii_lowercase[(string.ascii_lowercase.index(i) + k) % 26]\n",
    "        else:\n",
    "            string_1 += i\n",
    "    return string_1"
   ]
  },
  {
   "cell_type": "code",
   "execution_count": 20,
   "metadata": {},
   "outputs": [
    {
     "data": {
      "text/plain": [
       "'Ocejkpg ECP ngctp 2 !!!'"
      ]
     },
     "execution_count": 20,
     "metadata": {},
     "output_type": "execute_result"
    }
   ],
   "source": [
    "encode_rot(\"Machine CAN learn 2 !!!\", 28)"
   ]
  },
  {
   "cell_type": "code",
   "execution_count": 16,
   "metadata": {},
   "outputs": [],
   "source": [
    "w = []\n",
    "with open(\"dictionary.txt\") as f:\n",
    "    for i in f.readlines():\n",
    "        w.append(i.lower().strip())"
   ]
  },
  {
   "cell_type": "code",
   "execution_count": 12,
   "metadata": {},
   "outputs": [],
   "source": [
    "def decode_rot(txt):\n",
    "    maxcount = 0\n",
    "    match_text = \"\"\n",
    "    key = 0\n",
    "    for i in range(26):\n",
    "        count = 0\n",
    "        decoded_text = encode_rot(txt, 26 - i)       \n",
    "        for j in decoded_text.split():\n",
    "            if j.lower() in w:\n",
    "                count += 1\n",
    "        if count > maxcount:\n",
    "            key = i\n",
    "            maxcount = count\n",
    "            match_text = decoded_text            \n",
    "    return match_text,key\n"
   ]
  },
  {
   "cell_type": "code",
   "execution_count": 24,
   "metadata": {},
   "outputs": [
    {
     "data": {
      "text/plain": [
       "('Data is like people, interrogate it hard enough and it will tell you whatever you want to hear.',\n",
       " 16)"
      ]
     },
     "execution_count": 24,
     "metadata": {},
     "output_type": "execute_result"
    }
   ],
   "source": [
    "decode_rot(\"Ocejkpg ECP ngctp 2 !!!\")\n",
    "cipher_text = \"Tqjq yi byau fuefbu, ydjuhhewqju yj xqht udekwx qdt yj mybb jubb oek mxqjuluh oek mqdj je xuqh.\"\n",
    "decode_rot(cipher_text)"
   ]
  },
  {
   "cell_type": "code",
   "execution_count": 22,
   "metadata": {},
   "outputs": [
    {
     "data": {
      "text/plain": [
       "('This is United States of America', 13)"
      ]
     },
     "execution_count": 22,
     "metadata": {},
     "output_type": "execute_result"
    }
   ],
   "source": [
    "decode_rot(\"Guvf vf Havgrq Fgngrf bs Nzrevpn\")"
   ]
  },
  {
   "cell_type": "code",
   "execution_count": 23,
   "metadata": {},
   "outputs": [
    {
     "data": {
      "text/plain": [
       "('we are good', 13)"
      ]
     },
     "execution_count": 23,
     "metadata": {},
     "output_type": "execute_result"
    }
   ],
   "source": [
    "decode_rot(\"jr ner tbbq\")"
   ]
  },
  {
   "cell_type": "code",
   "execution_count": null,
   "metadata": {},
   "outputs": [],
   "source": []
  }
 ],
 "metadata": {
  "kernelspec": {
   "display_name": "Python 3",
   "language": "python",
   "name": "python3"
  },
  "language_info": {
   "codemirror_mode": {
    "name": "ipython",
    "version": 3
   },
   "file_extension": ".py",
   "mimetype": "text/x-python",
   "name": "python",
   "nbconvert_exporter": "python",
   "pygments_lexer": "ipython3",
   "version": "3.8.5"
  }
 },
 "nbformat": 4,
 "nbformat_minor": 4
}
