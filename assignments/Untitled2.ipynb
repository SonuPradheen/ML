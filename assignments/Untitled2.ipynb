{
 "cells": [
  {
   "cell_type": "code",
   "execution_count": 3,
   "metadata": {},
   "outputs": [
    {
     "ename": "FileNotFoundError",
     "evalue": "[Errno 2] No such file or directory: 'dictionary.txt'",
     "output_type": "error",
     "traceback": [
      "\u001b[1;31m---------------------------------------------------------------------------\u001b[0m",
      "\u001b[1;31mFileNotFoundError\u001b[0m                         Traceback (most recent call last)",
      "\u001b[1;32m<ipython-input-3-b7f2a268ae9d>\u001b[0m in \u001b[0;36m<module>\u001b[1;34m\u001b[0m\n\u001b[0;32m     13\u001b[0m     \u001b[1;32mreturn\u001b[0m \u001b[0mencoded_rot\u001b[0m\u001b[1;33m\u001b[0m\u001b[1;33m\u001b[0m\u001b[0m\n\u001b[0;32m     14\u001b[0m \u001b[0mencode_rot\u001b[0m\u001b[1;33m(\u001b[0m\u001b[1;36m28\u001b[0m\u001b[1;33m,\u001b[0m \u001b[1;34m\"I am king and minister\"\u001b[0m\u001b[1;33m)\u001b[0m\u001b[1;33m\u001b[0m\u001b[1;33m\u001b[0m\u001b[0m\n\u001b[1;32m---> 15\u001b[1;33m \u001b[0mfile\u001b[0m \u001b[1;33m=\u001b[0m \u001b[0mopen\u001b[0m\u001b[1;33m(\u001b[0m\u001b[1;34m\"dictionary.txt\"\u001b[0m\u001b[1;33m)\u001b[0m\u001b[1;33m\u001b[0m\u001b[1;33m\u001b[0m\u001b[0m\n\u001b[0m\u001b[0;32m     16\u001b[0m \u001b[0mdict_words\u001b[0m \u001b[1;33m=\u001b[0m \u001b[0mfile\u001b[0m\u001b[1;33m.\u001b[0m\u001b[0mread\u001b[0m\u001b[1;33m(\u001b[0m\u001b[1;33m)\u001b[0m\u001b[1;33m.\u001b[0m\u001b[0msplitlines\u001b[0m\u001b[1;33m(\u001b[0m\u001b[1;33m)\u001b[0m\u001b[1;33m\u001b[0m\u001b[1;33m\u001b[0m\u001b[0m\n\u001b[0;32m     17\u001b[0m \u001b[1;33m\u001b[0m\u001b[0m\n",
      "\u001b[1;31mFileNotFoundError\u001b[0m: [Errno 2] No such file or directory: 'dictionary.txt'"
     ]
    }
   ],
   "source": [
    "def encode_rot(key,string):\n",
    "    base_string=\"abcdefghijklmnopqrstuvwxyzabcdefghijklmnopqrstuvwxyzABCDEFGHIJKLMNOPQRSTUVWXYZABCDEFGHIJKLMNOPQRSTUVWXYZ\"\n",
    "    encoded_rot=''\n",
    "    for i in string:\n",
    "        if i in base_string:\n",
    "            if key>=0:\n",
    "                encoded_rot += base_string[base_string.index(i) + key ] \n",
    "            else:\n",
    "                first_occurance = base_string.index(i) #\n",
    "                encoded_rot += base_string[base_string.index(i,first_occurance) + key]#second occurence for negative propagation\n",
    "        else:\n",
    "            encoded_rot += i\n",
    "    return encoded_rot\n",
    "encode_rot(28, \"I am king and minister\")\n",
    "file = open(\"dictionary.txt\")\n",
    "dict_words = file.read().splitlines()\n",
    "\n",
    "def decode_rot(cipher_text):\n",
    "    max_key = None\n",
    "    my_decoded_text = cipher_text\n",
    "    max_score = 0\n",
    "    for i in range(0,26):\n",
    "        decoded_text = encode_rot(i,cipher_text)\n",
    "        decoded_words = decoded_text.split()\n",
    "        score = 0\n",
    "        for word in decoded_words:\n",
    "            if(word in dict_words):\n",
    "                score+=1\n",
    "        if score>=max_score:\n",
    "            max_score = score\n",
    "            max_key = i\n",
    "            my_decoded_text = decoded_text\n",
    "    return max_key,my_decoded_text\n",
    "print(decode_rot(encode_rot(2,'i am the super man')))\n",
    "print(decode_rot(encode_rot(2,'spiders are good artists')))\n",
    "print(decode_rot(encode_rot(2,'i am the king and the minister')))\n",
    "print(decode_rot(encode_rot(13,'powerful men are not born in powerful places')))\n",
    "print(decode_rot(encode_rot(11,'powerful people make places powerful')))\n"
   ]
  },
  {
   "cell_type": "code",
   "execution_count": null,
   "metadata": {},
   "outputs": [],
   "source": []
  }
 ],
 "metadata": {
  "kernelspec": {
   "display_name": "Python 3",
   "language": "python",
   "name": "python3"
  },
  "language_info": {
   "codemirror_mode": {
    "name": "ipython",
    "version": 3
   },
   "file_extension": ".py",
   "mimetype": "text/x-python",
   "name": "python",
   "nbconvert_exporter": "python",
   "pygments_lexer": "ipython3",
   "version": "3.8.5"
  }
 },
 "nbformat": 4,
 "nbformat_minor": 4
}
