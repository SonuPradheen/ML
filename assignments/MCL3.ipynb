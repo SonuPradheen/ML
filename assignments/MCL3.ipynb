{
 "cells": [
  {
   "cell_type": "code",
   "execution_count": 19,
   "metadata": {},
   "outputs": [
    {
     "data": {
      "text/plain": [
       "'Tqjq yi byau fuefbu, ydjuhhewqju yj xqht udekwx qdt yj mybb jubb oek mxqjuluh oek mqdj je xuqh.'"
      ]
     },
     "execution_count": 19,
     "metadata": {},
     "output_type": "execute_result"
    }
   ],
   "source": [
    "def encode_rot(k,string):\n",
    "    b_string=\"abcdefghijklmnopqrstuvwxyzabcdefghijklmnopqrstuvwxyzABCDEFGHIJKLMNOPQRSTUVWXYZABCDEFGHIJKLMNOPQRSTUVWXYZ\"\n",
    "    encoded_rot=''\n",
    "    for i in string:\n",
    "        if i in b_string:\n",
    "            if k>=0:\n",
    "                encoded_rot += b_string[b_string.index(i) + k ]\n",
    "            else:\n",
    "                first_occurance = base_string.index(i) #\n",
    "                encoded_rot += b_string[b_string.index(i,first_occurance) + k]\n",
    "        else:\n",
    "            encoded_rot += i\n",
    "    return encoded_rot\n",
    "encode_rot(16, \"Data is like people, interrogate it hard enough and it will tell you whatever you want to hear.\")"
   ]
  },
  {
   "cell_type": "code",
   "execution_count": 16,
   "metadata": {},
   "outputs": [],
   "source": [
    "file = open(\"dictionary.txt\")\n",
    "dict_words = file.read().splitlines()"
   ]
  },
  {
   "cell_type": "code",
   "execution_count": 17,
   "metadata": {},
   "outputs": [
    {
     "name": "stdout",
     "output_type": "stream",
     "text": [
      "(24, 'i am the super man')\n",
      "(24, 'spiders are good artists')\n",
      "(24, 'i am the king and the minister')\n",
      "(13, 'powerful men are not born in powerful places')\n",
      "(15, 'powerful people make places powerful')\n"
     ]
    }
   ],
   "source": []
  },
  {
   "cell_type": "code",
   "execution_count": null,
   "metadata": {},
   "outputs": [],
   "source": [
    "def decode_rot(cipher_text):\n",
    "    max_key = None\n",
    "    my_decoded_text = cipher_text\n",
    "    max_score = 0\n",
    "    for i in range(0,26):\n",
    "        decoded_text = encode_rot(i,cipher_text)\n",
    "        decoded_words = decoded_text.split()\n",
    "        score = 0\n",
    "        \n",
    "        for word in decoded_words:\n",
    "            if(word in dict_words):\n",
    "                score+=1\n",
    "        if score>=max_score:\n",
    "            max_score = score\n",
    "            max_key = i\n",
    "            my_decoded_text = decoded_text\n",
    "    return max_key,my_decoded_text"
   ]
  },
  {
   "cell_type": "code",
   "execution_count": 20,
   "metadata": {},
   "outputs": [
    {
     "name": "stdout",
     "output_type": "stream",
     "text": [
      "(24, 'i am the super man')\n",
      "(24, 'spiders are good artists')\n",
      "(24, 'i am the king and the minister')\n",
      "(13, 'powerful men are not born in powerful places')\n",
      "(15, 'powerful people make places powerful')\n"
     ]
    }
   ],
   "source": [
    "print(decode_rot(encode_rot(2,'i am the super man')))\n",
    "print(decode_rot(encode_rot(2,'spiders are good artists')))\n",
    "print(decode_rot(encode_rot(2,'i am the king and the minister')))\n",
    "print(decode_rot(encode_rot(13,'powerful men are not born in powerful places')))\n",
    "print(decode_rot(encode_rot(11,'powerful people make places powerful')))"
   ]
  },
  {
   "cell_type": "code",
   "execution_count": null,
   "metadata": {},
   "outputs": [],
   "source": []
  }
 ],
 "metadata": {
  "kernelspec": {
   "display_name": "Python 3",
   "language": "python",
   "name": "python3"
  },
  "language_info": {
   "codemirror_mode": {
    "name": "ipython",
    "version": 3
   },
   "file_extension": ".py",
   "mimetype": "text/x-python",
   "name": "python",
   "nbconvert_exporter": "python",
   "pygments_lexer": "ipython3",
   "version": "3.8.5"
  }
 },
 "nbformat": 4,
 "nbformat_minor": 4
}
