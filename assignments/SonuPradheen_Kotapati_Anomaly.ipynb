{
 "cells": [
  {
   "cell_type": "code",
   "execution_count": 98,
   "metadata": {},
   "outputs": [],
   "source": [
    "import numpy as np"
   ]
  },
  {
   "cell_type": "code",
   "execution_count": 99,
   "metadata": {},
   "outputs": [],
   "source": [
    "anomaly_data = []\n",
    "with open('anomaly_detection.txt') as f:\n",
    "    for i in f.readlines():\n",
    "        anomaly_data.append(float(i.strip()))\n",
    "anomaly_data_array = np.sort(np.array(anomaly_data))"
   ]
  },
  {
   "cell_type": "code",
   "execution_count": 100,
   "metadata": {},
   "outputs": [],
   "source": [
    "def anomaly_detection(array):\n",
    "    value=len(array)\n",
    "    for X in array:\n",
    "        Value = value-1\n",
    "        Mu = np.mean(array[array != X])\n",
    "        std = np.std(array[array != X])\n",
    "        differ_mean = abs(X-Mu)  \n",
    "        if differ_mean >= (3*(std)) :\n",
    "            array = np.delete(array, np.argwhere( array == X))\n",
    "            print(f\"Removed {X:.2f} from the list because it's {(differ_mean / std):.2f} times of standard deviation of the list without it.\\n{X:.2f} is removed from the list!\\n\")\n",
    "            return anomaly_detection(array)\n",
    "    else:\n",
    "            print(\"No more anomaly is detected\")"
   ]
  },
  {
   "cell_type": "code",
   "execution_count": 101,
   "metadata": {},
   "outputs": [
    {
     "name": "stdout",
     "output_type": "stream",
     "text": [
      "Removed 160.00 from the list because it's 4.14 times of standard deviation of the list without it.\n",
      "160.00 is removed from the list!\n",
      "\n",
      "Removed 55.00 from the list because it's 3.57 times of standard deviation of the list without it.\n",
      "55.00 is removed from the list!\n",
      "\n",
      "Removed 131.86 from the list because it's 3.08 times of standard deviation of the list without it.\n",
      "131.86 is removed from the list!\n",
      "\n",
      "No more anomaly is detected\n"
     ]
    }
   ],
   "source": [
    "anomaly_detection(anomaly_data_array)"
   ]
  },
  {
   "cell_type": "code",
   "execution_count": null,
   "metadata": {},
   "outputs": [],
   "source": []
  }
 ],
 "metadata": {
  "kernelspec": {
   "display_name": "Python 3",
   "language": "python",
   "name": "python3"
  },
  "language_info": {
   "codemirror_mode": {
    "name": "ipython",
    "version": 3
   },
   "file_extension": ".py",
   "mimetype": "text/x-python",
   "name": "python",
   "nbconvert_exporter": "python",
   "pygments_lexer": "ipython3",
   "version": "3.8.5"
  }
 },
 "nbformat": 4,
 "nbformat_minor": 4
}
