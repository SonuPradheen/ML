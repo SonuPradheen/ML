{
 "cells": [
  {
   "cell_type": "code",
   "execution_count": 116,
   "metadata": {},
   "outputs": [],
   "source": [
    "#importing libraries\n",
    "import pandas as pd\n",
    "import numpy as np\n",
    "import scipy as np\n",
    "from matplotlib import pyplot as plt\n",
    "%matplotlib inline\n",
    "import seaborn as sns"
   ]
  },
  {
   "cell_type": "code",
   "execution_count": 118,
   "metadata": {},
   "outputs": [],
   "source": [
    "df_math = pd.read_clipboard()"
   ]
  },
  {
   "cell_type": "code",
   "execution_count": 119,
   "metadata": {},
   "outputs": [
    {
     "data": {
      "text/html": [
       "<div>\n",
       "<style scoped>\n",
       "    .dataframe tbody tr th:only-of-type {\n",
       "        vertical-align: middle;\n",
       "    }\n",
       "\n",
       "    .dataframe tbody tr th {\n",
       "        vertical-align: top;\n",
       "    }\n",
       "\n",
       "    .dataframe thead th {\n",
       "        text-align: right;\n",
       "    }\n",
       "</style>\n",
       "<table border=\"1\" class=\"dataframe\">\n",
       "  <thead>\n",
       "    <tr style=\"text-align: right;\">\n",
       "      <th></th>\n",
       "      <th>1</th>\n",
       "      <th>China Shanghai, China</th>\n",
       "      <th>613</th>\n",
       "    </tr>\n",
       "  </thead>\n",
       "  <tbody>\n",
       "    <tr>\n",
       "      <th>0</th>\n",
       "      <td>2</td>\n",
       "      <td>Singapore</td>\n",
       "      <td>573</td>\n",
       "    </tr>\n",
       "    <tr>\n",
       "      <th>1</th>\n",
       "      <td>3</td>\n",
       "      <td>Hong Kong, China</td>\n",
       "      <td>561</td>\n",
       "    </tr>\n",
       "    <tr>\n",
       "      <th>2</th>\n",
       "      <td>4</td>\n",
       "      <td>Taiwan</td>\n",
       "      <td>560</td>\n",
       "    </tr>\n",
       "  </tbody>\n",
       "</table>\n",
       "</div>"
      ],
      "text/plain": [
       "   1 China Shanghai, China  613\n",
       "0  2             Singapore  573\n",
       "1  3      Hong Kong, China  561\n",
       "2  4                Taiwan  560"
      ]
     },
     "execution_count": 119,
     "metadata": {},
     "output_type": "execute_result"
    }
   ],
   "source": [
    "df_math.head(3)"
   ]
  },
  {
   "cell_type": "code",
   "execution_count": 120,
   "metadata": {},
   "outputs": [],
   "source": [
    "df_science = pd.read_clipboard()"
   ]
  },
  {
   "cell_type": "code",
   "execution_count": 121,
   "metadata": {},
   "outputs": [
    {
     "data": {
      "text/html": [
       "<div>\n",
       "<style scoped>\n",
       "    .dataframe tbody tr th:only-of-type {\n",
       "        vertical-align: middle;\n",
       "    }\n",
       "\n",
       "    .dataframe tbody tr th {\n",
       "        vertical-align: top;\n",
       "    }\n",
       "\n",
       "    .dataframe thead th {\n",
       "        text-align: right;\n",
       "    }\n",
       "</style>\n",
       "<table border=\"1\" class=\"dataframe\">\n",
       "  <thead>\n",
       "    <tr style=\"text-align: right;\">\n",
       "      <th></th>\n",
       "      <th>1</th>\n",
       "      <th>China Shanghai, China</th>\n",
       "      <th>580</th>\n",
       "    </tr>\n",
       "  </thead>\n",
       "  <tbody>\n",
       "    <tr>\n",
       "      <th>0</th>\n",
       "      <td>2</td>\n",
       "      <td>Hong Kong, China</td>\n",
       "      <td>555</td>\n",
       "    </tr>\n",
       "    <tr>\n",
       "      <th>1</th>\n",
       "      <td>3</td>\n",
       "      <td>Singapore</td>\n",
       "      <td>551</td>\n",
       "    </tr>\n",
       "    <tr>\n",
       "      <th>2</th>\n",
       "      <td>4</td>\n",
       "      <td>Japan</td>\n",
       "      <td>547</td>\n",
       "    </tr>\n",
       "    <tr>\n",
       "      <th>3</th>\n",
       "      <td>5</td>\n",
       "      <td>Finland</td>\n",
       "      <td>545</td>\n",
       "    </tr>\n",
       "    <tr>\n",
       "      <th>4</th>\n",
       "      <td>6</td>\n",
       "      <td>Estonia</td>\n",
       "      <td>541</td>\n",
       "    </tr>\n",
       "  </tbody>\n",
       "</table>\n",
       "</div>"
      ],
      "text/plain": [
       "   1 China Shanghai, China  580\n",
       "0  2      Hong Kong, China  555\n",
       "1  3             Singapore  551\n",
       "2  4                 Japan  547\n",
       "3  5               Finland  545\n",
       "4  6               Estonia  541"
      ]
     },
     "execution_count": 121,
     "metadata": {},
     "output_type": "execute_result"
    }
   ],
   "source": [
    "df_science.head(5)"
   ]
  },
  {
   "cell_type": "code",
   "execution_count": 122,
   "metadata": {},
   "outputs": [],
   "source": [
    "df_reading= pd.read_clipboard()"
   ]
  },
  {
   "cell_type": "code",
   "execution_count": 123,
   "metadata": {},
   "outputs": [
    {
     "data": {
      "text/html": [
       "<div>\n",
       "<style scoped>\n",
       "    .dataframe tbody tr th:only-of-type {\n",
       "        vertical-align: middle;\n",
       "    }\n",
       "\n",
       "    .dataframe tbody tr th {\n",
       "        vertical-align: top;\n",
       "    }\n",
       "\n",
       "    .dataframe thead th {\n",
       "        text-align: right;\n",
       "    }\n",
       "</style>\n",
       "<table border=\"1\" class=\"dataframe\">\n",
       "  <thead>\n",
       "    <tr style=\"text-align: right;\">\n",
       "      <th></th>\n",
       "      <th>1</th>\n",
       "      <th>China Shanghai, China</th>\n",
       "      <th>570</th>\n",
       "    </tr>\n",
       "  </thead>\n",
       "  <tbody>\n",
       "    <tr>\n",
       "      <th>0</th>\n",
       "      <td>2</td>\n",
       "      <td>Hong Kong, China</td>\n",
       "      <td>545</td>\n",
       "    </tr>\n",
       "    <tr>\n",
       "      <th>1</th>\n",
       "      <td>3</td>\n",
       "      <td>Singapore</td>\n",
       "      <td>542</td>\n",
       "    </tr>\n",
       "    <tr>\n",
       "      <th>2</th>\n",
       "      <td>4</td>\n",
       "      <td>Japan</td>\n",
       "      <td>538</td>\n",
       "    </tr>\n",
       "    <tr>\n",
       "      <th>3</th>\n",
       "      <td>5</td>\n",
       "      <td>South Korea</td>\n",
       "      <td>536</td>\n",
       "    </tr>\n",
       "    <tr>\n",
       "      <th>4</th>\n",
       "      <td>6</td>\n",
       "      <td>Finland</td>\n",
       "      <td>524</td>\n",
       "    </tr>\n",
       "    <tr>\n",
       "      <th>5</th>\n",
       "      <td>7=</td>\n",
       "      <td>Taiwan</td>\n",
       "      <td>523</td>\n",
       "    </tr>\n",
       "    <tr>\n",
       "      <th>6</th>\n",
       "      <td>7=</td>\n",
       "      <td>Canada</td>\n",
       "      <td>523</td>\n",
       "    </tr>\n",
       "    <tr>\n",
       "      <th>7</th>\n",
       "      <td>7=</td>\n",
       "      <td>Ireland</td>\n",
       "      <td>523</td>\n",
       "    </tr>\n",
       "    <tr>\n",
       "      <th>8</th>\n",
       "      <td>10</td>\n",
       "      <td>Poland</td>\n",
       "      <td>518</td>\n",
       "    </tr>\n",
       "    <tr>\n",
       "      <th>9</th>\n",
       "      <td>11=</td>\n",
       "      <td>Liechtenstein</td>\n",
       "      <td>516</td>\n",
       "    </tr>\n",
       "  </tbody>\n",
       "</table>\n",
       "</div>"
      ],
      "text/plain": [
       "     1 China Shanghai, China  570\n",
       "0    2      Hong Kong, China  545\n",
       "1    3             Singapore  542\n",
       "2    4                 Japan  538\n",
       "3    5           South Korea  536\n",
       "4    6               Finland  524\n",
       "5   7=                Taiwan  523\n",
       "6   7=                Canada  523\n",
       "7   7=               Ireland  523\n",
       "8   10                Poland  518\n",
       "9  11=         Liechtenstein  516"
      ]
     },
     "execution_count": 123,
     "metadata": {},
     "output_type": "execute_result"
    }
   ],
   "source": [
    "df_reading.head(10)"
   ]
  },
  {
   "cell_type": "code",
   "execution_count": 124,
   "metadata": {},
   "outputs": [
    {
     "name": "stderr",
     "output_type": "stream",
     "text": [
      "<ipython-input-124-33bda58e39e9>:1: DeprecationWarning: scipy.array is deprecated and will be removed in SciPy 2.0.0, use numpy.array instead\n",
      "  df_math.loc[64]=np.array([66,\"China Shanghai, China\",613])\n"
     ]
    }
   ],
   "source": [
    "df_math.loc[64]=np.array([66,\"China Shanghai, China\",613])"
   ]
  },
  {
   "cell_type": "code",
   "execution_count": 125,
   "metadata": {},
   "outputs": [
    {
     "name": "stderr",
     "output_type": "stream",
     "text": [
      "<ipython-input-125-417a4d474670>:1: DeprecationWarning: scipy.array is deprecated and will be removed in SciPy 2.0.0, use numpy.array instead\n",
      "  df_reading.loc[64]=np.array([66,\"China Shanghai, China\",570])\n"
     ]
    }
   ],
   "source": [
    "df_reading.loc[64]=np.array([66,\"China Shanghai, China\",570])"
   ]
  },
  {
   "cell_type": "code",
   "execution_count": 126,
   "metadata": {},
   "outputs": [
    {
     "name": "stderr",
     "output_type": "stream",
     "text": [
      "<ipython-input-126-e30170f2d73c>:1: DeprecationWarning: scipy.array is deprecated and will be removed in SciPy 2.0.0, use numpy.array instead\n",
      "  df_science.loc[64]=np.array([66,\"China Shanghai, China\",580])\n"
     ]
    }
   ],
   "source": [
    "df_science.loc[64]=np.array([66,\"China Shanghai, China\",580])"
   ]
  },
  {
   "cell_type": "code",
   "execution_count": 127,
   "metadata": {},
   "outputs": [
    {
     "data": {
      "text/plain": [
       "Index(['1', 'China Shanghai, China', '580'], dtype='object')"
      ]
     },
     "execution_count": 127,
     "metadata": {},
     "output_type": "execute_result"
    }
   ],
   "source": [
    "df_science.columns"
   ]
  },
  {
   "cell_type": "code",
   "execution_count": 128,
   "metadata": {},
   "outputs": [],
   "source": [
    "df_reading = df_reading.rename(index=str, columns={\"1\": \"Rank\", \"China Shanghai, China\": \"Country\",\"570\":\"Score\"})"
   ]
  },
  {
   "cell_type": "code",
   "execution_count": 129,
   "metadata": {},
   "outputs": [
    {
     "data": {
      "text/html": [
       "<div>\n",
       "<style scoped>\n",
       "    .dataframe tbody tr th:only-of-type {\n",
       "        vertical-align: middle;\n",
       "    }\n",
       "\n",
       "    .dataframe tbody tr th {\n",
       "        vertical-align: top;\n",
       "    }\n",
       "\n",
       "    .dataframe thead th {\n",
       "        text-align: right;\n",
       "    }\n",
       "</style>\n",
       "<table border=\"1\" class=\"dataframe\">\n",
       "  <thead>\n",
       "    <tr style=\"text-align: right;\">\n",
       "      <th></th>\n",
       "      <th>Rank</th>\n",
       "      <th>Country</th>\n",
       "      <th>Score</th>\n",
       "    </tr>\n",
       "  </thead>\n",
       "  <tbody>\n",
       "    <tr>\n",
       "      <th>0</th>\n",
       "      <td>2</td>\n",
       "      <td>Hong Kong, China</td>\n",
       "      <td>545</td>\n",
       "    </tr>\n",
       "    <tr>\n",
       "      <th>1</th>\n",
       "      <td>3</td>\n",
       "      <td>Singapore</td>\n",
       "      <td>542</td>\n",
       "    </tr>\n",
       "  </tbody>\n",
       "</table>\n",
       "</div>"
      ],
      "text/plain": [
       "  Rank            Country Score\n",
       "0    2   Hong Kong, China   545\n",
       "1    3          Singapore   542"
      ]
     },
     "execution_count": 129,
     "metadata": {},
     "output_type": "execute_result"
    }
   ],
   "source": [
    "df_reading.head(2)"
   ]
  },
  {
   "cell_type": "code",
   "execution_count": 130,
   "metadata": {},
   "outputs": [],
   "source": [
    "df_science =df_science.rename(index=str, columns={\"1\": \"Rank\", \"China Shanghai, China\": \"Country\",\"580\":\"Score\"})"
   ]
  },
  {
   "cell_type": "code",
   "execution_count": 131,
   "metadata": {},
   "outputs": [
    {
     "data": {
      "text/html": [
       "<div>\n",
       "<style scoped>\n",
       "    .dataframe tbody tr th:only-of-type {\n",
       "        vertical-align: middle;\n",
       "    }\n",
       "\n",
       "    .dataframe tbody tr th {\n",
       "        vertical-align: top;\n",
       "    }\n",
       "\n",
       "    .dataframe thead th {\n",
       "        text-align: right;\n",
       "    }\n",
       "</style>\n",
       "<table border=\"1\" class=\"dataframe\">\n",
       "  <thead>\n",
       "    <tr style=\"text-align: right;\">\n",
       "      <th></th>\n",
       "      <th>Rank</th>\n",
       "      <th>Country</th>\n",
       "      <th>Score</th>\n",
       "    </tr>\n",
       "  </thead>\n",
       "  <tbody>\n",
       "    <tr>\n",
       "      <th>0</th>\n",
       "      <td>2</td>\n",
       "      <td>Hong Kong, China</td>\n",
       "      <td>555</td>\n",
       "    </tr>\n",
       "    <tr>\n",
       "      <th>1</th>\n",
       "      <td>3</td>\n",
       "      <td>Singapore</td>\n",
       "      <td>551</td>\n",
       "    </tr>\n",
       "  </tbody>\n",
       "</table>\n",
       "</div>"
      ],
      "text/plain": [
       "  Rank            Country Score\n",
       "0    2   Hong Kong, China   555\n",
       "1    3          Singapore   551"
      ]
     },
     "execution_count": 131,
     "metadata": {},
     "output_type": "execute_result"
    }
   ],
   "source": [
    "df_science.head(2)"
   ]
  },
  {
   "cell_type": "code",
   "execution_count": 132,
   "metadata": {},
   "outputs": [],
   "source": [
    "df_math = df_math.rename(index=str, columns={\"1\": \"Rank\", \"China Shanghai, China\": \"Country\",\"613\":\"Score\"})"
   ]
  },
  {
   "cell_type": "code",
   "execution_count": 133,
   "metadata": {},
   "outputs": [
    {
     "data": {
      "text/html": [
       "<div>\n",
       "<style scoped>\n",
       "    .dataframe tbody tr th:only-of-type {\n",
       "        vertical-align: middle;\n",
       "    }\n",
       "\n",
       "    .dataframe tbody tr th {\n",
       "        vertical-align: top;\n",
       "    }\n",
       "\n",
       "    .dataframe thead th {\n",
       "        text-align: right;\n",
       "    }\n",
       "</style>\n",
       "<table border=\"1\" class=\"dataframe\">\n",
       "  <thead>\n",
       "    <tr style=\"text-align: right;\">\n",
       "      <th></th>\n",
       "      <th>Rank</th>\n",
       "      <th>Country</th>\n",
       "      <th>Score</th>\n",
       "    </tr>\n",
       "  </thead>\n",
       "  <tbody>\n",
       "    <tr>\n",
       "      <th>0</th>\n",
       "      <td>2</td>\n",
       "      <td>Singapore</td>\n",
       "      <td>573</td>\n",
       "    </tr>\n",
       "    <tr>\n",
       "      <th>1</th>\n",
       "      <td>3</td>\n",
       "      <td>Hong Kong, China</td>\n",
       "      <td>561</td>\n",
       "    </tr>\n",
       "  </tbody>\n",
       "</table>\n",
       "</div>"
      ],
      "text/plain": [
       "  Rank            Country Score\n",
       "0    2          Singapore   573\n",
       "1    3   Hong Kong, China   561"
      ]
     },
     "execution_count": 133,
     "metadata": {},
     "output_type": "execute_result"
    }
   ],
   "source": [
    "df_math.head(2)"
   ]
  },
  {
   "cell_type": "code",
   "execution_count": 134,
   "metadata": {},
   "outputs": [],
   "source": [
    "temp = pd.merge(df_math, df_science, on='Country', how ='outer')"
   ]
  },
  {
   "cell_type": "code",
   "execution_count": 135,
   "metadata": {},
   "outputs": [
    {
     "data": {
      "text/html": [
       "<div>\n",
       "<style scoped>\n",
       "    .dataframe tbody tr th:only-of-type {\n",
       "        vertical-align: middle;\n",
       "    }\n",
       "\n",
       "    .dataframe tbody tr th {\n",
       "        vertical-align: top;\n",
       "    }\n",
       "\n",
       "    .dataframe thead th {\n",
       "        text-align: right;\n",
       "    }\n",
       "</style>\n",
       "<table border=\"1\" class=\"dataframe\">\n",
       "  <thead>\n",
       "    <tr style=\"text-align: right;\">\n",
       "      <th></th>\n",
       "      <th>Rank_x</th>\n",
       "      <th>Country</th>\n",
       "      <th>Score_x</th>\n",
       "      <th>Rank_y</th>\n",
       "      <th>Score_y</th>\n",
       "    </tr>\n",
       "  </thead>\n",
       "  <tbody>\n",
       "    <tr>\n",
       "      <th>0</th>\n",
       "      <td>2</td>\n",
       "      <td>Singapore</td>\n",
       "      <td>573</td>\n",
       "      <td>3</td>\n",
       "      <td>551</td>\n",
       "    </tr>\n",
       "    <tr>\n",
       "      <th>1</th>\n",
       "      <td>3</td>\n",
       "      <td>Hong Kong, China</td>\n",
       "      <td>561</td>\n",
       "      <td>2</td>\n",
       "      <td>555</td>\n",
       "    </tr>\n",
       "    <tr>\n",
       "      <th>2</th>\n",
       "      <td>4</td>\n",
       "      <td>Taiwan</td>\n",
       "      <td>560</td>\n",
       "      <td>13</td>\n",
       "      <td>523</td>\n",
       "    </tr>\n",
       "    <tr>\n",
       "      <th>3</th>\n",
       "      <td>5</td>\n",
       "      <td>South Korea</td>\n",
       "      <td>554</td>\n",
       "      <td>7</td>\n",
       "      <td>538</td>\n",
       "    </tr>\n",
       "    <tr>\n",
       "      <th>4</th>\n",
       "      <td>6</td>\n",
       "      <td>Macau, China</td>\n",
       "      <td>538</td>\n",
       "      <td>16=</td>\n",
       "      <td>521</td>\n",
       "    </tr>\n",
       "  </tbody>\n",
       "</table>\n",
       "</div>"
      ],
      "text/plain": [
       "  Rank_x            Country Score_x Rank_y Score_y\n",
       "0      2          Singapore     573      3     551\n",
       "1      3   Hong Kong, China     561      2     555\n",
       "2      4             Taiwan     560     13     523\n",
       "3      5        South Korea     554      7     538\n",
       "4      6       Macau, China     538    16=     521"
      ]
     },
     "execution_count": 135,
     "metadata": {},
     "output_type": "execute_result"
    }
   ],
   "source": [
    "temp.head(5)"
   ]
  },
  {
   "cell_type": "code",
   "execution_count": 136,
   "metadata": {},
   "outputs": [],
   "source": [
    "temp = pd.merge(temp, df_reading, on= 'Country', how='outer')"
   ]
  },
  {
   "cell_type": "code",
   "execution_count": 137,
   "metadata": {},
   "outputs": [
    {
     "data": {
      "text/html": [
       "<div>\n",
       "<style scoped>\n",
       "    .dataframe tbody tr th:only-of-type {\n",
       "        vertical-align: middle;\n",
       "    }\n",
       "\n",
       "    .dataframe tbody tr th {\n",
       "        vertical-align: top;\n",
       "    }\n",
       "\n",
       "    .dataframe thead th {\n",
       "        text-align: right;\n",
       "    }\n",
       "</style>\n",
       "<table border=\"1\" class=\"dataframe\">\n",
       "  <thead>\n",
       "    <tr style=\"text-align: right;\">\n",
       "      <th></th>\n",
       "      <th>Rank_x</th>\n",
       "      <th>Country</th>\n",
       "      <th>Score_x</th>\n",
       "      <th>Rank_y</th>\n",
       "      <th>Score_y</th>\n",
       "      <th>Rank</th>\n",
       "      <th>Score</th>\n",
       "    </tr>\n",
       "  </thead>\n",
       "  <tbody>\n",
       "    <tr>\n",
       "      <th>0</th>\n",
       "      <td>2</td>\n",
       "      <td>Singapore</td>\n",
       "      <td>573</td>\n",
       "      <td>3</td>\n",
       "      <td>551</td>\n",
       "      <td>3</td>\n",
       "      <td>542</td>\n",
       "    </tr>\n",
       "    <tr>\n",
       "      <th>1</th>\n",
       "      <td>3</td>\n",
       "      <td>Hong Kong, China</td>\n",
       "      <td>561</td>\n",
       "      <td>2</td>\n",
       "      <td>555</td>\n",
       "      <td>2</td>\n",
       "      <td>545</td>\n",
       "    </tr>\n",
       "    <tr>\n",
       "      <th>2</th>\n",
       "      <td>4</td>\n",
       "      <td>Taiwan</td>\n",
       "      <td>560</td>\n",
       "      <td>13</td>\n",
       "      <td>523</td>\n",
       "      <td>7=</td>\n",
       "      <td>523</td>\n",
       "    </tr>\n",
       "    <tr>\n",
       "      <th>3</th>\n",
       "      <td>5</td>\n",
       "      <td>South Korea</td>\n",
       "      <td>554</td>\n",
       "      <td>7</td>\n",
       "      <td>538</td>\n",
       "      <td>5</td>\n",
       "      <td>536</td>\n",
       "    </tr>\n",
       "    <tr>\n",
       "      <th>4</th>\n",
       "      <td>6</td>\n",
       "      <td>Macau, China</td>\n",
       "      <td>538</td>\n",
       "      <td>16=</td>\n",
       "      <td>521</td>\n",
       "      <td>16=</td>\n",
       "      <td>509</td>\n",
       "    </tr>\n",
       "  </tbody>\n",
       "</table>\n",
       "</div>"
      ],
      "text/plain": [
       "  Rank_x            Country Score_x Rank_y Score_y Rank Score\n",
       "0      2          Singapore     573      3     551    3   542\n",
       "1      3   Hong Kong, China     561      2     555    2   545\n",
       "2      4             Taiwan     560     13     523   7=   523\n",
       "3      5        South Korea     554      7     538    5   536\n",
       "4      6       Macau, China     538    16=     521  16=   509"
      ]
     },
     "execution_count": 137,
     "metadata": {},
     "output_type": "execute_result"
    }
   ],
   "source": [
    "temp.head(5)"
   ]
  },
  {
   "cell_type": "code",
   "execution_count": 159,
   "metadata": {},
   "outputs": [],
   "source": [
    "del temp['Rank_x']"
   ]
  },
  {
   "cell_type": "code",
   "execution_count": 160,
   "metadata": {},
   "outputs": [
    {
     "data": {
      "text/html": [
       "<div>\n",
       "<style scoped>\n",
       "    .dataframe tbody tr th:only-of-type {\n",
       "        vertical-align: middle;\n",
       "    }\n",
       "\n",
       "    .dataframe tbody tr th {\n",
       "        vertical-align: top;\n",
       "    }\n",
       "\n",
       "    .dataframe thead th {\n",
       "        text-align: right;\n",
       "    }\n",
       "</style>\n",
       "<table border=\"1\" class=\"dataframe\">\n",
       "  <thead>\n",
       "    <tr style=\"text-align: right;\">\n",
       "      <th></th>\n",
       "      <th>Country</th>\n",
       "      <th>Score_x</th>\n",
       "      <th>Rank_y</th>\n",
       "      <th>Score_y</th>\n",
       "      <th>Rank</th>\n",
       "      <th>Score</th>\n",
       "    </tr>\n",
       "  </thead>\n",
       "  <tbody>\n",
       "    <tr>\n",
       "      <th>0</th>\n",
       "      <td>Singapore</td>\n",
       "      <td>573</td>\n",
       "      <td>3</td>\n",
       "      <td>551</td>\n",
       "      <td>3</td>\n",
       "      <td>542</td>\n",
       "    </tr>\n",
       "    <tr>\n",
       "      <th>1</th>\n",
       "      <td>Hong Kong, China</td>\n",
       "      <td>561</td>\n",
       "      <td>2</td>\n",
       "      <td>555</td>\n",
       "      <td>2</td>\n",
       "      <td>545</td>\n",
       "    </tr>\n",
       "    <tr>\n",
       "      <th>2</th>\n",
       "      <td>Taiwan</td>\n",
       "      <td>560</td>\n",
       "      <td>13</td>\n",
       "      <td>523</td>\n",
       "      <td>7=</td>\n",
       "      <td>523</td>\n",
       "    </tr>\n",
       "    <tr>\n",
       "      <th>3</th>\n",
       "      <td>South Korea</td>\n",
       "      <td>554</td>\n",
       "      <td>7</td>\n",
       "      <td>538</td>\n",
       "      <td>5</td>\n",
       "      <td>536</td>\n",
       "    </tr>\n",
       "    <tr>\n",
       "      <th>4</th>\n",
       "      <td>Macau, China</td>\n",
       "      <td>538</td>\n",
       "      <td>16=</td>\n",
       "      <td>521</td>\n",
       "      <td>16=</td>\n",
       "      <td>509</td>\n",
       "    </tr>\n",
       "  </tbody>\n",
       "</table>\n",
       "</div>"
      ],
      "text/plain": [
       "             Country Score_x Rank_y Score_y Rank Score\n",
       "0          Singapore     573      3     551    3   542\n",
       "1   Hong Kong, China     561      2     555    2   545\n",
       "2             Taiwan     560     13     523   7=   523\n",
       "3        South Korea     554      7     538    5   536\n",
       "4       Macau, China     538    16=     521  16=   509"
      ]
     },
     "execution_count": 160,
     "metadata": {},
     "output_type": "execute_result"
    }
   ],
   "source": [
    "temp.head(5)"
   ]
  },
  {
   "cell_type": "code",
   "execution_count": 161,
   "metadata": {},
   "outputs": [],
   "source": [
    "df= temp.rename(index=str, columns={\"Country\":\"Country\", \"Score_x\":\"Math\", \"Score_y\":\"Science\",\"Score\":\"Reading\"})"
   ]
  },
  {
   "cell_type": "code",
   "execution_count": 162,
   "metadata": {},
   "outputs": [
    {
     "data": {
      "text/html": [
       "<div>\n",
       "<style scoped>\n",
       "    .dataframe tbody tr th:only-of-type {\n",
       "        vertical-align: middle;\n",
       "    }\n",
       "\n",
       "    .dataframe tbody tr th {\n",
       "        vertical-align: top;\n",
       "    }\n",
       "\n",
       "    .dataframe thead th {\n",
       "        text-align: right;\n",
       "    }\n",
       "</style>\n",
       "<table border=\"1\" class=\"dataframe\">\n",
       "  <thead>\n",
       "    <tr style=\"text-align: right;\">\n",
       "      <th></th>\n",
       "      <th>Country</th>\n",
       "      <th>Math</th>\n",
       "      <th>Rank_y</th>\n",
       "      <th>Science</th>\n",
       "      <th>Rank</th>\n",
       "      <th>Reading</th>\n",
       "    </tr>\n",
       "  </thead>\n",
       "  <tbody>\n",
       "    <tr>\n",
       "      <th>0</th>\n",
       "      <td>Singapore</td>\n",
       "      <td>573</td>\n",
       "      <td>3</td>\n",
       "      <td>551</td>\n",
       "      <td>3</td>\n",
       "      <td>542</td>\n",
       "    </tr>\n",
       "  </tbody>\n",
       "</table>\n",
       "</div>"
      ],
      "text/plain": [
       "      Country Math Rank_y Science Rank Reading\n",
       "0   Singapore  573      3     551    3     542"
      ]
     },
     "execution_count": 162,
     "metadata": {},
     "output_type": "execute_result"
    }
   ],
   "source": [
    "df.head(1)"
   ]
  },
  {
   "cell_type": "code",
   "execution_count": 163,
   "metadata": {},
   "outputs": [],
   "source": [
    "df['Math'] = pd.to_numeric(df['Math'])"
   ]
  },
  {
   "cell_type": "code",
   "execution_count": 164,
   "metadata": {},
   "outputs": [],
   "source": [
    "df['Science'] = pd.to_numeric(df['Science'])"
   ]
  },
  {
   "cell_type": "code",
   "execution_count": 165,
   "metadata": {},
   "outputs": [],
   "source": [
    "df['Reading'] = pd.to_numeric(df['Reading'])"
   ]
  },
  {
   "cell_type": "code",
   "execution_count": 166,
   "metadata": {},
   "outputs": [],
   "source": [
    "df['Average']=(df['Math']+df['Science']+df['Reading'])/3"
   ]
  },
  {
   "cell_type": "code",
   "execution_count": 167,
   "metadata": {},
   "outputs": [
    {
     "data": {
      "text/html": [
       "<div>\n",
       "<style scoped>\n",
       "    .dataframe tbody tr th:only-of-type {\n",
       "        vertical-align: middle;\n",
       "    }\n",
       "\n",
       "    .dataframe tbody tr th {\n",
       "        vertical-align: top;\n",
       "    }\n",
       "\n",
       "    .dataframe thead th {\n",
       "        text-align: right;\n",
       "    }\n",
       "</style>\n",
       "<table border=\"1\" class=\"dataframe\">\n",
       "  <thead>\n",
       "    <tr style=\"text-align: right;\">\n",
       "      <th></th>\n",
       "      <th>Country</th>\n",
       "      <th>Math</th>\n",
       "      <th>Rank_y</th>\n",
       "      <th>Science</th>\n",
       "      <th>Rank</th>\n",
       "      <th>Reading</th>\n",
       "      <th>Average</th>\n",
       "    </tr>\n",
       "  </thead>\n",
       "  <tbody>\n",
       "    <tr>\n",
       "      <th>0</th>\n",
       "      <td>Singapore</td>\n",
       "      <td>573</td>\n",
       "      <td>3</td>\n",
       "      <td>551</td>\n",
       "      <td>3</td>\n",
       "      <td>542</td>\n",
       "      <td>555.333333</td>\n",
       "    </tr>\n",
       "    <tr>\n",
       "      <th>1</th>\n",
       "      <td>Hong Kong, China</td>\n",
       "      <td>561</td>\n",
       "      <td>2</td>\n",
       "      <td>555</td>\n",
       "      <td>2</td>\n",
       "      <td>545</td>\n",
       "      <td>553.666667</td>\n",
       "    </tr>\n",
       "    <tr>\n",
       "      <th>2</th>\n",
       "      <td>Taiwan</td>\n",
       "      <td>560</td>\n",
       "      <td>13</td>\n",
       "      <td>523</td>\n",
       "      <td>7=</td>\n",
       "      <td>523</td>\n",
       "      <td>535.333333</td>\n",
       "    </tr>\n",
       "    <tr>\n",
       "      <th>3</th>\n",
       "      <td>South Korea</td>\n",
       "      <td>554</td>\n",
       "      <td>7</td>\n",
       "      <td>538</td>\n",
       "      <td>5</td>\n",
       "      <td>536</td>\n",
       "      <td>542.666667</td>\n",
       "    </tr>\n",
       "    <tr>\n",
       "      <th>4</th>\n",
       "      <td>Macau, China</td>\n",
       "      <td>538</td>\n",
       "      <td>16=</td>\n",
       "      <td>521</td>\n",
       "      <td>16=</td>\n",
       "      <td>509</td>\n",
       "      <td>522.666667</td>\n",
       "    </tr>\n",
       "  </tbody>\n",
       "</table>\n",
       "</div>"
      ],
      "text/plain": [
       "             Country  Math Rank_y  Science Rank  Reading     Average\n",
       "0          Singapore   573      3      551    3      542  555.333333\n",
       "1   Hong Kong, China   561      2      555    2      545  553.666667\n",
       "2             Taiwan   560     13      523   7=      523  535.333333\n",
       "3        South Korea   554      7      538    5      536  542.666667\n",
       "4       Macau, China   538    16=      521  16=      509  522.666667"
      ]
     },
     "execution_count": 167,
     "metadata": {},
     "output_type": "execute_result"
    }
   ],
   "source": [
    "df.head(5)"
   ]
  },
  {
   "cell_type": "code",
   "execution_count": 168,
   "metadata": {},
   "outputs": [],
   "source": [
    "df['Rank'] = df['Average'].rank(ascending=False)"
   ]
  },
  {
   "cell_type": "code",
   "execution_count": 169,
   "metadata": {},
   "outputs": [
    {
     "data": {
      "text/html": [
       "<div>\n",
       "<style scoped>\n",
       "    .dataframe tbody tr th:only-of-type {\n",
       "        vertical-align: middle;\n",
       "    }\n",
       "\n",
       "    .dataframe tbody tr th {\n",
       "        vertical-align: top;\n",
       "    }\n",
       "\n",
       "    .dataframe thead th {\n",
       "        text-align: right;\n",
       "    }\n",
       "</style>\n",
       "<table border=\"1\" class=\"dataframe\">\n",
       "  <thead>\n",
       "    <tr style=\"text-align: right;\">\n",
       "      <th></th>\n",
       "      <th>Country</th>\n",
       "      <th>Math</th>\n",
       "      <th>Rank_y</th>\n",
       "      <th>Science</th>\n",
       "      <th>Rank</th>\n",
       "      <th>Reading</th>\n",
       "      <th>Average</th>\n",
       "    </tr>\n",
       "  </thead>\n",
       "  <tbody>\n",
       "    <tr>\n",
       "      <th>0</th>\n",
       "      <td>Singapore</td>\n",
       "      <td>573</td>\n",
       "      <td>3</td>\n",
       "      <td>551</td>\n",
       "      <td>2.0</td>\n",
       "      <td>542</td>\n",
       "      <td>555.333333</td>\n",
       "    </tr>\n",
       "    <tr>\n",
       "      <th>1</th>\n",
       "      <td>Hong Kong, China</td>\n",
       "      <td>561</td>\n",
       "      <td>2</td>\n",
       "      <td>555</td>\n",
       "      <td>3.0</td>\n",
       "      <td>545</td>\n",
       "      <td>553.666667</td>\n",
       "    </tr>\n",
       "    <tr>\n",
       "      <th>2</th>\n",
       "      <td>Taiwan</td>\n",
       "      <td>560</td>\n",
       "      <td>13</td>\n",
       "      <td>523</td>\n",
       "      <td>6.0</td>\n",
       "      <td>523</td>\n",
       "      <td>535.333333</td>\n",
       "    </tr>\n",
       "    <tr>\n",
       "      <th>3</th>\n",
       "      <td>South Korea</td>\n",
       "      <td>554</td>\n",
       "      <td>7</td>\n",
       "      <td>538</td>\n",
       "      <td>4.0</td>\n",
       "      <td>536</td>\n",
       "      <td>542.666667</td>\n",
       "    </tr>\n",
       "    <tr>\n",
       "      <th>4</th>\n",
       "      <td>Macau, China</td>\n",
       "      <td>538</td>\n",
       "      <td>16=</td>\n",
       "      <td>521</td>\n",
       "      <td>10.0</td>\n",
       "      <td>509</td>\n",
       "      <td>522.666667</td>\n",
       "    </tr>\n",
       "    <tr>\n",
       "      <th>5</th>\n",
       "      <td>Japan</td>\n",
       "      <td>536</td>\n",
       "      <td>4</td>\n",
       "      <td>547</td>\n",
       "      <td>5.0</td>\n",
       "      <td>538</td>\n",
       "      <td>540.333333</td>\n",
       "    </tr>\n",
       "    <tr>\n",
       "      <th>6</th>\n",
       "      <td>Liechtenstein</td>\n",
       "      <td>535</td>\n",
       "      <td>10=</td>\n",
       "      <td>525</td>\n",
       "      <td>9.0</td>\n",
       "      <td>516</td>\n",
       "      <td>525.333333</td>\n",
       "    </tr>\n",
       "    <tr>\n",
       "      <th>7</th>\n",
       "      <td>Switzerland</td>\n",
       "      <td>531</td>\n",
       "      <td>19</td>\n",
       "      <td>515</td>\n",
       "      <td>14.0</td>\n",
       "      <td>509</td>\n",
       "      <td>518.333333</td>\n",
       "    </tr>\n",
       "    <tr>\n",
       "      <th>8</th>\n",
       "      <td>Netherlands</td>\n",
       "      <td>523</td>\n",
       "      <td>14=</td>\n",
       "      <td>522</td>\n",
       "      <td>13.0</td>\n",
       "      <td>511</td>\n",
       "      <td>518.666667</td>\n",
       "    </tr>\n",
       "    <tr>\n",
       "      <th>9</th>\n",
       "      <td>Estonia</td>\n",
       "      <td>521</td>\n",
       "      <td>6</td>\n",
       "      <td>541</td>\n",
       "      <td>8.0</td>\n",
       "      <td>516</td>\n",
       "      <td>526.000000</td>\n",
       "    </tr>\n",
       "  </tbody>\n",
       "</table>\n",
       "</div>"
      ],
      "text/plain": [
       "             Country  Math Rank_y  Science  Rank  Reading     Average\n",
       "0          Singapore   573      3      551   2.0      542  555.333333\n",
       "1   Hong Kong, China   561      2      555   3.0      545  553.666667\n",
       "2             Taiwan   560     13      523   6.0      523  535.333333\n",
       "3        South Korea   554      7      538   4.0      536  542.666667\n",
       "4       Macau, China   538    16=      521  10.0      509  522.666667\n",
       "5              Japan   536      4      547   5.0      538  540.333333\n",
       "6      Liechtenstein   535    10=      525   9.0      516  525.333333\n",
       "7        Switzerland   531     19      515  14.0      509  518.333333\n",
       "8        Netherlands   523    14=      522  13.0      511  518.666667\n",
       "9            Estonia   521      6      541   8.0      516  526.000000"
      ]
     },
     "execution_count": 169,
     "metadata": {},
     "output_type": "execute_result"
    }
   ],
   "source": [
    "df.head(10)"
   ]
  },
  {
   "cell_type": "code",
   "execution_count": 170,
   "metadata": {},
   "outputs": [
    {
     "data": {
      "text/html": [
       "<div>\n",
       "<style scoped>\n",
       "    .dataframe tbody tr th:only-of-type {\n",
       "        vertical-align: middle;\n",
       "    }\n",
       "\n",
       "    .dataframe tbody tr th {\n",
       "        vertical-align: top;\n",
       "    }\n",
       "\n",
       "    .dataframe thead th {\n",
       "        text-align: right;\n",
       "    }\n",
       "</style>\n",
       "<table border=\"1\" class=\"dataframe\">\n",
       "  <thead>\n",
       "    <tr style=\"text-align: right;\">\n",
       "      <th></th>\n",
       "      <th>Country</th>\n",
       "      <th>Math</th>\n",
       "      <th>Rank_y</th>\n",
       "      <th>Science</th>\n",
       "      <th>Rank</th>\n",
       "      <th>Reading</th>\n",
       "      <th>Average</th>\n",
       "    </tr>\n",
       "  </thead>\n",
       "  <tbody>\n",
       "    <tr>\n",
       "      <th>64</th>\n",
       "      <td>China Shanghai, China</td>\n",
       "      <td>613</td>\n",
       "      <td>66</td>\n",
       "      <td>580</td>\n",
       "      <td>1.0</td>\n",
       "      <td>570</td>\n",
       "      <td>587.666667</td>\n",
       "    </tr>\n",
       "    <tr>\n",
       "      <th>0</th>\n",
       "      <td>Singapore</td>\n",
       "      <td>573</td>\n",
       "      <td>3</td>\n",
       "      <td>551</td>\n",
       "      <td>2.0</td>\n",
       "      <td>542</td>\n",
       "      <td>555.333333</td>\n",
       "    </tr>\n",
       "    <tr>\n",
       "      <th>1</th>\n",
       "      <td>Hong Kong, China</td>\n",
       "      <td>561</td>\n",
       "      <td>2</td>\n",
       "      <td>555</td>\n",
       "      <td>3.0</td>\n",
       "      <td>545</td>\n",
       "      <td>553.666667</td>\n",
       "    </tr>\n",
       "    <tr>\n",
       "      <th>3</th>\n",
       "      <td>South Korea</td>\n",
       "      <td>554</td>\n",
       "      <td>7</td>\n",
       "      <td>538</td>\n",
       "      <td>4.0</td>\n",
       "      <td>536</td>\n",
       "      <td>542.666667</td>\n",
       "    </tr>\n",
       "    <tr>\n",
       "      <th>5</th>\n",
       "      <td>Japan</td>\n",
       "      <td>536</td>\n",
       "      <td>4</td>\n",
       "      <td>547</td>\n",
       "      <td>5.0</td>\n",
       "      <td>538</td>\n",
       "      <td>540.333333</td>\n",
       "    </tr>\n",
       "    <tr>\n",
       "      <th>...</th>\n",
       "      <td>...</td>\n",
       "      <td>...</td>\n",
       "      <td>...</td>\n",
       "      <td>...</td>\n",
       "      <td>...</td>\n",
       "      <td>...</td>\n",
       "      <td>...</td>\n",
       "    </tr>\n",
       "    <tr>\n",
       "      <th>55</th>\n",
       "      <td>Albania</td>\n",
       "      <td>394</td>\n",
       "      <td>62</td>\n",
       "      <td>397</td>\n",
       "      <td>61.0</td>\n",
       "      <td>394</td>\n",
       "      <td>395.000000</td>\n",
       "    </tr>\n",
       "    <tr>\n",
       "      <th>60</th>\n",
       "      <td>Colombia</td>\n",
       "      <td>376</td>\n",
       "      <td>60</td>\n",
       "      <td>399</td>\n",
       "      <td>62.0</td>\n",
       "      <td>403</td>\n",
       "      <td>392.666667</td>\n",
       "    </tr>\n",
       "    <tr>\n",
       "      <th>62</th>\n",
       "      <td>Indonesia</td>\n",
       "      <td>375</td>\n",
       "      <td>64</td>\n",
       "      <td>382</td>\n",
       "      <td>63.0</td>\n",
       "      <td>396</td>\n",
       "      <td>384.333333</td>\n",
       "    </tr>\n",
       "    <tr>\n",
       "      <th>61</th>\n",
       "      <td>Qatar</td>\n",
       "      <td>376</td>\n",
       "      <td>63</td>\n",
       "      <td>384</td>\n",
       "      <td>64.0</td>\n",
       "      <td>388</td>\n",
       "      <td>382.666667</td>\n",
       "    </tr>\n",
       "    <tr>\n",
       "      <th>63</th>\n",
       "      <td>Peru</td>\n",
       "      <td>368</td>\n",
       "      <td>65</td>\n",
       "      <td>373</td>\n",
       "      <td>65.0</td>\n",
       "      <td>384</td>\n",
       "      <td>375.000000</td>\n",
       "    </tr>\n",
       "  </tbody>\n",
       "</table>\n",
       "<p>65 rows × 7 columns</p>\n",
       "</div>"
      ],
      "text/plain": [
       "                  Country  Math Rank_y  Science  Rank  Reading     Average\n",
       "64  China Shanghai, China   613     66      580   1.0      570  587.666667\n",
       "0               Singapore   573      3      551   2.0      542  555.333333\n",
       "1        Hong Kong, China   561      2      555   3.0      545  553.666667\n",
       "3             South Korea   554      7      538   4.0      536  542.666667\n",
       "5                   Japan   536      4      547   5.0      538  540.333333\n",
       "..                    ...   ...    ...      ...   ...      ...         ...\n",
       "55                Albania   394     62      397  61.0      394  395.000000\n",
       "60               Colombia   376     60      399  62.0      403  392.666667\n",
       "62              Indonesia   375     64      382  63.0      396  384.333333\n",
       "61                  Qatar   376     63      384  64.0      388  382.666667\n",
       "63                   Peru   368     65      373  65.0      384  375.000000\n",
       "\n",
       "[65 rows x 7 columns]"
      ]
     },
     "execution_count": 170,
     "metadata": {},
     "output_type": "execute_result"
    }
   ],
   "source": [
    "df.sort_values('Rank')"
   ]
  },
  {
   "cell_type": "code",
   "execution_count": 171,
   "metadata": {},
   "outputs": [],
   "source": [
    "from matplotlib import pyplot as plt\n",
    "%matplotlib inline\n",
    "import numpy as np"
   ]
  },
  {
   "cell_type": "code",
   "execution_count": 172,
   "metadata": {},
   "outputs": [],
   "source": [
    "import random\n",
    "random.seed(0)\n",
    "a = df['Average']\n",
    "b = df['Math']"
   ]
  },
  {
   "cell_type": "code",
   "execution_count": 173,
   "metadata": {},
   "outputs": [
    {
     "data": {
      "image/png": "[encoded data removed]",
      "text/plain": [
       "<Figure size 432x288 with 1 Axes>"
      ]
     },
     "metadata": {
      "needs_background": "light"
     },
     "output_type": "display_data"
    }
   ],
   "source": [
    "plt.title(\"Assignment 6\")\n",
    "plt.xlabel('Average and Maths')\n",
    "plt.ylabel('Score')\n",
    "plt.hist(a, label ='A', color='r')\n",
    "plt.hist(b, label='B' , color='g')\n",
    "plt.legend(prop={'size':12})\n",
    "plt.grid()\n",
    "plt.show()"
   ]
  },
  {
   "cell_type": "code",
   "execution_count": 177,
   "metadata": {},
   "outputs": [],
   "source": [
    "def find_anomaly(data):\n",
    "    anomaly_list = list()\n",
    "    for index, val in enumerate(data):\n",
    "        data_mean = np.mean(data)\n",
    "        data_std = np.std(data)\n",
    "        \n",
    "        if abs(val - data_mean) > data_std * 1.8:\n",
    "            anomaly_list.append(index)\n",
    "            \n",
    "    return anomaly_list"
   ]
  },
  {
   "cell_type": "code",
   "execution_count": 178,
   "metadata": {},
   "outputs": [],
   "source": [
    "def find_Outlier(Column):\n",
    "    Values = list(df[Column])\n",
    "    countries = list(df['Country'])\n",
    "    data = np.array(Values)\n",
    "    indicies = find_anomaly(data)\n",
    "    anomaly_Countries = list()\n",
    "    for index in indicies:\n",
    "        anomaly_Countries.append(countries[index])\n",
    "    print(\"The outliers in {0} are {1}\".format(Column, anomaly_Countries))"
   ]
  },
  {
   "cell_type": "code",
   "execution_count": 179,
   "metadata": {},
   "outputs": [
    {
     "name": "stdout",
     "output_type": "stream",
     "text": [
      "The outliers in Math are [' Singapore', ' Peru', 'China Shanghai, China']\n"
     ]
    }
   ],
   "source": [
    "find_Outlier('Math')"
   ]
  },
  {
   "cell_type": "code",
   "execution_count": 180,
   "metadata": {},
   "outputs": [
    {
     "name": "stdout",
     "output_type": "stream",
     "text": [
      "The outliers in Science are [' Qatar', ' Indonesia', ' Peru', 'China Shanghai, China']\n"
     ]
    }
   ],
   "source": [
    "find_Outlier('Science')"
   ]
  },
  {
   "cell_type": "code",
   "execution_count": 181,
   "metadata": {},
   "outputs": [
    {
     "name": "stdout",
     "output_type": "stream",
     "text": [
      "The outliers in Reading are [' Qatar', ' Peru', 'China Shanghai, China']\n"
     ]
    }
   ],
   "source": [
    "find_Outlier (\"Reading\")"
   ]
  },
  {
   "cell_type": "code",
   "execution_count": 182,
   "metadata": {},
   "outputs": [
    {
     "name": "stdout",
     "output_type": "stream",
     "text": [
      "The outliers in Average are [' Qatar', ' Indonesia', ' Peru', 'China Shanghai, China']\n"
     ]
    }
   ],
   "source": [
    "find_Outlier('Average')"
   ]
  },
  {
   "cell_type": "code",
   "execution_count": null,
   "metadata": {},
   "outputs": [],
   "source": []
  },
  {
   "cell_type": "code",
   "execution_count": null,
   "metadata": {},
   "outputs": [],
   "source": []
  },
  {
   "cell_type": "code",
   "execution_count": null,
   "metadata": {},
   "outputs": [],
   "source": []
  }
 ],
 "metadata": {
  "kernelspec": {
   "display_name": "Python 3",
   "language": "python",
   "name": "python3"
  },
  "language_info": {
   "codemirror_mode": {
    "name": "ipython",
    "version": 3
   },
   "file_extension": ".py",
   "mimetype": "text/x-python",
   "name": "python",
   "nbconvert_exporter": "python",
   "pygments_lexer": "ipython3",
   "version": "3.8.5"
  }
 },
 "nbformat": 4,
 "nbformat_minor": 4
}
