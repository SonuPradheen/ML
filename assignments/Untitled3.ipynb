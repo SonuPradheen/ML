{
 "cells": [
  {
   "cell_type": "code",
   "execution_count": 1,
   "metadata": {},
   "outputs": [
    {
     "data": {
      "text/plain": [
       "'Tqjq yi byau fuefbu, ydjuhhewqju yj xqht udekwx qdt yj mybb jubb oek mxqjuluh oek mqdj je xuqh.'"
      ]
     },
     "execution_count": 1,
     "metadata": {},
     "output_type": "execute_result"
    }
   ],
   "source": [
    "def encode_rot(k,string):\n",
    "    b_string=\"abcdefghijklmnopqrstuvwxyzabcdefghijklmnopqrstuvwxyzABCDEFGHIJKLMNOPQRSTUVWXYZABCDEFGHIJKLMNOPQRSTUVWXYZ\"\n",
    "    encoded_rot=''\n",
    "    for i in string:\n",
    "        if i in b_string:\n",
    "            if k>=0:\n",
    "                encoded_rot += b_string[b_string.index(i) + k ]\n",
    "            else:\n",
    "                first_occurance = base_string.index(i) #\n",
    "                encoded_rot += b_string[b_string.index(i,first_occurance) + k]\n",
    "        else:\n",
    "            encoded_rot += i\n",
    "    return encoded_rot\n",
    "encode_rot(16, \"Data is like people, interrogate it hard enough and it will tell you whatever you want to hear.\")"
   ]
  },
  {
   "cell_type": "code",
   "execution_count": 14,
   "metadata": {},
   "outputs": [],
   "source": [
    "words = list()\n",
    "with open(\"dictionary.txt\") as f:\n",
    "    for i in f.readlines():\n",
    "        words.append(i.lower().rstrip())"
   ]
  },
  {
   "cell_type": "code",
   "execution_count": 11,
   "metadata": {},
   "outputs": [],
   "source": [
    "def decode_rot(cipher_text):\n",
    "    key = None\n",
    "    s = 0\n",
    "    decoded_text = cipher_text\n",
    "    for i in range(0,26):\n",
    "        decodetext = encode_rot(i,cipher_text)\n",
    "        decoded_words = decodetext.split()\n",
    "        score = 0     \n",
    "        for word in decoded_words:\n",
    "            if(word in dict_words):\n",
    "                score+=1\n",
    "        if score>= s:\n",
    "            s = score\n",
    "            key = i\n",
    "            decoded_text = decodetext\n",
    "    return key,decoded_text"
   ]
  },
  {
   "cell_type": "code",
   "execution_count": 13,
   "metadata": {},
   "outputs": [
    {
     "name": "stdout",
     "output_type": "stream",
     "text": [
      "(24, 'i am SonuPradheen')\n",
      "(23, 'Tizz Boas wg Gcbi Dforvssb Ychodohw')\n"
     ]
    }
   ],
   "source": [
    "print(decode_rot(encode_rot(2,'i am SonuPradheen')))\n",
    "print(decode_rot(encode_rot(17,'Full Name is Sonu Pradheen Kotapati')))"
   ]
  },
  {
   "cell_type": "code",
   "execution_count": null,
   "metadata": {},
   "outputs": [],
   "source": []
  }
 ],
 "metadata": {
  "kernelspec": {
   "display_name": "Python 3",
   "language": "python",
   "name": "python3"
  },
  "language_info": {
   "codemirror_mode": {
    "name": "ipython",
    "version": 3
   },
   "file_extension": ".py",
   "mimetype": "text/x-python",
   "name": "python",
   "nbconvert_exporter": "python",
   "pygments_lexer": "ipython3",
   "version": "3.8.5"
  }
 },
 "nbformat": 4,
 "nbformat_minor": 4
}
