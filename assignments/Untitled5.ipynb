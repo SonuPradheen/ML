{
 "cells": [
  {
   "cell_type": "code",
   "execution_count": 4,
   "metadata": {},
   "outputs": [],
   "source": [
    "import string\n",
    "input_text = \"\"\n",
    "words = []\n",
    "with open(\"stopwords.txt\") as f:\n",
    "    for w in f.read().splitlines():\n",
    "        words.append(w.strip())\n",
    "with open(\"Sense_and_Sensibility.txt\") as f:\n",
    "    for w in f.read():\n",
    "        if w in string.ascii_letters:\n",
    "            input_text += w.lower()\n",
    "        else:\n",
    "            input_text += \" \"\n",
    "input_text = input_text.split()"
   ]
  },
  {
   "cell_type": "code",
   "execution_count": 17,
   "metadata": {},
   "outputs": [
    {
     "name": "stdout",
     "output_type": "stream",
     "text": [
      " 1:sister(282times) ****************************\n",
      " 2:mother(258times) *************************\n",
      " 3:dashwood(252times) *************************\n",
      " 4:time(239times) ***********************\n",
      " 5:miss(210times) *********************\n",
      " 6:good(177times) *****************\n",
      " 7:colonel(176times) *****************\n",
      " 8:john(164times) ****************\n",
      " 9:house(161times) ****************\n",
      "10:day(149times) **************\n",
      "11:brandon(144times) **************\n",
      "12:make(143times) **************\n",
      "13:lady(142times) **************\n",
      "14:made(138times) *************\n",
      "15:give(130times) *************\n",
      "16:ferrars(130times) *************\n",
      "17:heart(127times) ************\n",
      "18:room(119times) ***********\n",
      "19:dear(118times) ***********\n",
      "20:thought(116times) ***********\n",
      "21:felt(106times) **********\n",
      "22:long(105times) **********\n",
      "23:young(103times) **********\n",
      "24:replied(102times) **********\n",
      "25:middleton(102times) **********\n",
      "26:mind(100times) **********\n",
      "27:happy(100times) **********\n",
      "28:moment( 99times) *********\n",
      "29:left( 98times) *********\n",
      "30:kind( 96times) *********\n"
     ]
    }
   ],
   "source": [
    "w_list = list() \n",
    "w_count = list() \n",
    "for i in text: \n",
    "    if len(i) < 2:    \n",
    "        continue\n",
    "    if i in stop_words:\n",
    "        continue\n",
    "    if i in w_list:\n",
    "        w_count[word_list.index(i)] += 1\n",
    "    else:\n",
    "        w_count.append(1)\n",
    "        w_list.append(i) \n",
    "sorted_w_list_count_top_30 = sorted_w_list_count[-30:][::-1]\n",
    "sorted_w_list_count = [(word, count) for count, word in sorted(zip(w_count, w_list))]\n",
    "for i, (word, count) in enumerate(sorted_w_list_count_top_30):\n",
    "    print(f\"{i+1:2}:{word:}({count:3}times) {'*' * (count // 10)}\")\n"
   ]
  },
  {
   "cell_type": "code",
   "execution_count": null,
   "metadata": {},
   "outputs": [],
   "source": []
  }
 ],
 "metadata": {
  "kernelspec": {
   "display_name": "Python 3",
   "language": "python",
   "name": "python3"
  },
  "language_info": {
   "codemirror_mode": {
    "name": "ipython",
    "version": 3
   },
   "file_extension": ".py",
   "mimetype": "text/x-python",
   "name": "python",
   "nbconvert_exporter": "python",
   "pygments_lexer": "ipython3",
   "version": "3.8.5"
  }
 },
 "nbformat": 4,
 "nbformat_minor": 4
}
